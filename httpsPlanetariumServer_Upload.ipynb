{
 "cells": [
  {
   "cell_type": "code",
   "execution_count": null,
   "metadata": {},
   "outputs": [],
   "source": [
    "import sys, os, subprocess\n",
    "from bottle import route, run, static_file, ServerAdapter\n",
    "from gevent.pywsgi import WSGIServer\n",
    "\n",
    "class SSLWebServer(ServerAdapter):\n",
    "    def run(self, handler):\n",
    "        srv = WSGIServer( (self.host, self.port), handler,\n",
    "        certfile='./server.pem', keyfile='./server.pem')\n",
    "        srv.serve_forever()\n",
    "\n",
    "@route( '/<lon:float>/<lat:float>/' )\n",
    "def index(lon, lat):\n",
    "    texPath = '/dir/path/texture000.png'\n",
    "    if( os.path.exists( texPath ) ):\n",
    "        os.remove(texPath)\n",
    "    scrText = f'''StelMovementMgr.zoomTo(180) ;\n",
    "core.setObserverLocation({lon},{lat},0);\n",
    "StelMovementMgr.lookEast(); core.wait(0.0);\n",
    "core.screenshot(\"texture\"); core.quitStellarium ();'''\n",
    "    stellariumPath = '/Applications/Stellarium.app/Contents/'\n",
    "    path = stellariumPath + 'Resources/scripts/screencapture.ssc'\n",
    "    with open(path, 'w') as f:\n",
    "        f.write( scrText )\n",
    "    cmd = stellariumPath +'/MacOS/stellarium --screenshot-dir /dir/path --startup-script screencapture.ssc --full-screen no'\n",
    "    \n",
    "    popen = subprocess.Popen( cmd.strip().split(\" \"), shell=False )\n",
    "    popen.wait(); return static_file( 'index.htm', root=\"/dir/path\")\n",
    "\n",
    "@route('/<filename:path>')\n",
    "def static(filename):\n",
    "    return static_file(filename, root=\"/dir/path\")\n",
    "\n",
    "run(host='0.0.0.0', port=8080, server=SSLWebServer)"
   ]
  },
  {
   "cell_type": "code",
   "execution_count": null,
   "metadata": {},
   "outputs": [],
   "source": []
  }
 ],
 "metadata": {
  "kernelspec": {
   "display_name": "Python 3",
   "language": "python",
   "name": "python3"
  },
  "language_info": {
   "codemirror_mode": {
    "name": "ipython",
    "version": 3
   },
   "file_extension": ".py",
   "mimetype": "text/x-python",
   "name": "python",
   "nbconvert_exporter": "python",
   "pygments_lexer": "ipython3",
   "version": "3.7.0"
  }
 },
 "nbformat": 4,
 "nbformat_minor": 2
}
